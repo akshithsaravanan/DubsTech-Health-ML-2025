{
  "nbformat": 4,
  "nbformat_minor": 0,
  "metadata": {
    "colab": {
      "provenance": []
    },
    "kernelspec": {
      "name": "python3",
      "display_name": "Python 3"
    },
    "language_info": {
      "name": "python"
    }
  },
  "cells": [
    {
      "cell_type": "markdown",
      "source": [
        "📥 **Importing the Necessary Libraries**\n",
        "\n",
        "In this step, we import essential Python libraries that will be used throughout the project:\n",
        "\n",
        "- `pandas` (pd) for loading and manipulating tabular data.\n",
        "\n",
        "- `numpy` (np) for numerical operations and handling arrays.\n",
        "\n",
        "- `matplotlib.pyplot` (plt) for creating static visualizations like line plots and scatter plots.\n",
        "\n",
        "- `seaborn` (sns) for enhanced and attractive data visualizations.\n",
        "\n",
        "These libraries form the foundation for data analysis, visualization, and preprocessing activities later in the project."
      ],
      "metadata": {
        "id": "zkbA0yi1K__l"
      }
    },
    {
      "cell_type": "code",
      "execution_count": 1,
      "metadata": {
        "id": "xNrmy-cnJANo"
      },
      "outputs": [],
      "source": [
        "# Importing the necessary modules\n",
        "import pandas as pd\n",
        "import numpy as np\n",
        "import matplotlib.pyplot as plt\n",
        "import seaborn as sns"
      ]
    },
    {
      "cell_type": "markdown",
      "source": [
        "🔗 **Mounting Google Drive in Google Colab**\n",
        "\n",
        "In this step, we connect our Google Drive storage to the Colab environment:\n",
        "\n",
        "`from google.colab import drive` imports the necessary module to handle the mounting.\n",
        "\n",
        "`drive.mount('/content/drive')` mounts the entire Google Drive into the Colab's file system at the `/content/drive` path.\n",
        "\n",
        "This allows seamless access, loading, and saving of files (such as datasets, models, and outputs) between your Drive and Colab."
      ],
      "metadata": {
        "id": "vEMs5j98GrQO"
      }
    },
    {
      "cell_type": "code",
      "source": [
        "from google.colab import drive\n",
        "drive.mount('/content/drive')"
      ],
      "metadata": {
        "colab": {
          "base_uri": "https://localhost:8080/"
        },
        "id": "oG6pLfAqZAT8",
        "outputId": "f0057f94-fce0-4731-e6b8-ebbf4e103fdf"
      },
      "execution_count": 2,
      "outputs": [
        {
          "output_type": "stream",
          "name": "stdout",
          "text": [
            "Mounted at /content/drive\n"
          ]
        }
      ]
    },
    {
      "cell_type": "markdown",
      "source": [
        "📄 **Reading the Dataset and Checking Initial Shape**\n",
        "\n",
        "In this step, we read the hospital discharge dataset from Google Drive into a Pandas DataFrame:\n",
        "\n",
        "`df = pd.read_csv('/content/drive/MyDrive/Hospital_Inpatient_Discharges__SPARCS_De-Identified___Cost_Transparency__Beginning_2009_20250426 (1).csv')` loads the CSV file into a DataFrame called `df`, allowing for structured data manipulation.\n",
        "\n",
        "`print(df.shape)` outputs the shape of the DataFrame, displaying the number of rows and columns to give a quick understanding of the dataset size.\n",
        "\n",
        "This verification step ensures that the dataset has been loaded correctly before proceeding with further exploration and analysis."
      ],
      "metadata": {
        "id": "MzSAomrCHaza"
      }
    },
    {
      "cell_type": "code",
      "source": [
        "# The full path\n",
        "df = pd.read_csv('/content/drive/MyDrive/Hospital_Inpatient_Discharges__SPARCS_De-Identified___Cost_Transparency__Beginning_2009_20250426 (1).csv')\n",
        "\n",
        "# Viewing shape\n",
        "print(df.shape)"
      ],
      "metadata": {
        "colab": {
          "base_uri": "https://localhost:8080/"
        },
        "id": "7GBPtAjeOOH0",
        "outputId": "fb84dd7e-5f75-44df-aa98-f205dd712c1a"
      },
      "execution_count": 3,
      "outputs": [
        {
          "output_type": "stream",
          "name": "stdout",
          "text": [
            "(1192827, 14)\n"
          ]
        }
      ]
    },
    {
      "cell_type": "markdown",
      "source": [
        "📊 **Inspecting the Dataset Shape in Detail**\n",
        "\n",
        "In this step, we perform a deeper check of the dataset's structure:\n",
        "\n",
        "`print(\"Shape of dataset:\", df.shape)` prints the overall shape of the DataFrame as a tuple (rows, columns).\n",
        "\n",
        "`print(\"Number of rows:\", df.shape[0])` specifically prints the total number of rows (records) in the dataset.\n",
        "\n",
        "`print(\"Number of columns:\", df.shape[1])` specifically prints the total number of columns (features) in the dataset.\n",
        "\n",
        "This breakdown helps in understanding the dataset dimensions clearly before moving forward with data exploration and preprocessing."
      ],
      "metadata": {
        "id": "iGl4P0RbIn1B"
      }
    },
    {
      "cell_type": "code",
      "source": [
        "# Checking the shape\n",
        "print(\"Shape of dataset:\", df.shape)\n",
        "\n",
        "# Specifically print number of rows\n",
        "print(\"Number of rows:\", df.shape[0])\n",
        "\n",
        "# And number of columns\n",
        "print(\"Number of columns:\", df.shape[1])"
      ],
      "metadata": {
        "colab": {
          "base_uri": "https://localhost:8080/"
        },
        "id": "FzsJ9Cx4X4bI",
        "outputId": "5aebeabf-e1e0-47e7-ff35-ef1375992cc0"
      },
      "execution_count": 4,
      "outputs": [
        {
          "output_type": "stream",
          "name": "stdout",
          "text": [
            "Shape of dataset: (1192827, 14)\n",
            "Number of rows: 1192827\n",
            "Number of columns: 14\n"
          ]
        }
      ]
    },
    {
      "cell_type": "markdown",
      "source": [
        "📋 **Exploring Dataset Structure, Statistics, and Missing Values**\n",
        "\n",
        "In this step, we explore the dataset to better understand its structure and contents:\n",
        "\n",
        "`df.info()` displays the column names, data types, and non-null counts for each column, helping identify the types of data we are working with.\n",
        "\n",
        "`df.describe()` provides basic statistical summaries (mean, median, min, max, standard deviation) for all numeric columns, giving insights into data distribution.\n",
        "\n",
        "`df.isnull().sum()` calculates the number of missing (null) values in each column, allowing us to quickly detect incomplete or problematic data that may need cleaning.\n",
        "\n",
        "This exploration step is essential to guide further preprocessing decisions and model-building strategies."
      ],
      "metadata": {
        "id": "j87A8MmkJGnH"
      }
    },
    {
      "cell_type": "code",
      "source": [
        "# Check column names and data types\n",
        "df.info()\n",
        "\n",
        "# See basic statistics\n",
        "df.describe()\n",
        "\n",
        "# See missing values\n",
        "df.isnull().sum()"
      ],
      "metadata": {
        "colab": {
          "base_uri": "https://localhost:8080/",
          "height": 887
        },
        "id": "YM1s-RdEOb04",
        "outputId": "1be4a2f2-5339-4738-cec7-406492d3e042"
      },
      "execution_count": 5,
      "outputs": [
        {
          "output_type": "stream",
          "name": "stdout",
          "text": [
            "<class 'pandas.core.frame.DataFrame'>\n",
            "RangeIndex: 1192827 entries, 0 to 1192826\n",
            "Data columns (total 14 columns):\n",
            " #   Column                               Non-Null Count    Dtype \n",
            "---  ------                               --------------    ----- \n",
            " 0   Year                                 1192827 non-null  int64 \n",
            " 1   Facility Id                          1192827 non-null  int64 \n",
            " 2   Facility Name                        1192827 non-null  object\n",
            " 3   APR DRG Code                         1192827 non-null  int64 \n",
            " 4   APR Severity of Illness Code         1192827 non-null  int64 \n",
            " 5   APR DRG Description                  1192827 non-null  object\n",
            " 6   APR Severity of Illness Description  1192617 non-null  object\n",
            " 7   APR Medical Surgical Code            1192348 non-null  object\n",
            " 8   APR Medical Surgical Description     1192827 non-null  object\n",
            " 9   Discharges                           1192827 non-null  object\n",
            " 10  Mean Charge                          1192827 non-null  object\n",
            " 11  Median Charge                        1192827 non-null  object\n",
            " 12  Mean Cost                            1192827 non-null  object\n",
            " 13  Median Cost                          1192827 non-null  object\n",
            "dtypes: int64(4), object(10)\n",
            "memory usage: 127.4+ MB\n"
          ]
        },
        {
          "output_type": "execute_result",
          "data": {
            "text/plain": [
              "Year                                     0\n",
              "Facility Id                              0\n",
              "Facility Name                            0\n",
              "APR DRG Code                             0\n",
              "APR Severity of Illness Code             0\n",
              "APR DRG Description                      0\n",
              "APR Severity of Illness Description    210\n",
              "APR Medical Surgical Code              479\n",
              "APR Medical Surgical Description         0\n",
              "Discharges                               0\n",
              "Mean Charge                              0\n",
              "Median Charge                            0\n",
              "Mean Cost                                0\n",
              "Median Cost                              0\n",
              "dtype: int64"
            ],
            "text/html": [
              "<div>\n",
              "<style scoped>\n",
              "    .dataframe tbody tr th:only-of-type {\n",
              "        vertical-align: middle;\n",
              "    }\n",
              "\n",
              "    .dataframe tbody tr th {\n",
              "        vertical-align: top;\n",
              "    }\n",
              "\n",
              "    .dataframe thead th {\n",
              "        text-align: right;\n",
              "    }\n",
              "</style>\n",
              "<table border=\"1\" class=\"dataframe\">\n",
              "  <thead>\n",
              "    <tr style=\"text-align: right;\">\n",
              "      <th></th>\n",
              "      <th>0</th>\n",
              "    </tr>\n",
              "  </thead>\n",
              "  <tbody>\n",
              "    <tr>\n",
              "      <th>Year</th>\n",
              "      <td>0</td>\n",
              "    </tr>\n",
              "    <tr>\n",
              "      <th>Facility Id</th>\n",
              "      <td>0</td>\n",
              "    </tr>\n",
              "    <tr>\n",
              "      <th>Facility Name</th>\n",
              "      <td>0</td>\n",
              "    </tr>\n",
              "    <tr>\n",
              "      <th>APR DRG Code</th>\n",
              "      <td>0</td>\n",
              "    </tr>\n",
              "    <tr>\n",
              "      <th>APR Severity of Illness Code</th>\n",
              "      <td>0</td>\n",
              "    </tr>\n",
              "    <tr>\n",
              "      <th>APR DRG Description</th>\n",
              "      <td>0</td>\n",
              "    </tr>\n",
              "    <tr>\n",
              "      <th>APR Severity of Illness Description</th>\n",
              "      <td>210</td>\n",
              "    </tr>\n",
              "    <tr>\n",
              "      <th>APR Medical Surgical Code</th>\n",
              "      <td>479</td>\n",
              "    </tr>\n",
              "    <tr>\n",
              "      <th>APR Medical Surgical Description</th>\n",
              "      <td>0</td>\n",
              "    </tr>\n",
              "    <tr>\n",
              "      <th>Discharges</th>\n",
              "      <td>0</td>\n",
              "    </tr>\n",
              "    <tr>\n",
              "      <th>Mean Charge</th>\n",
              "      <td>0</td>\n",
              "    </tr>\n",
              "    <tr>\n",
              "      <th>Median Charge</th>\n",
              "      <td>0</td>\n",
              "    </tr>\n",
              "    <tr>\n",
              "      <th>Mean Cost</th>\n",
              "      <td>0</td>\n",
              "    </tr>\n",
              "    <tr>\n",
              "      <th>Median Cost</th>\n",
              "      <td>0</td>\n",
              "    </tr>\n",
              "  </tbody>\n",
              "</table>\n",
              "</div><br><label><b>dtype:</b> int64</label>"
            ]
          },
          "metadata": {},
          "execution_count": 5
        }
      ]
    },
    {
      "cell_type": "markdown",
      "source": [
        "🧹 **Cleaning Column Names for Consistency**\n",
        "\n",
        "In this step, we standardize the column names in the dataset to make them easier to work with:\n",
        "\n",
        "`df.columns.str.strip()` removes any leading or trailing whitespace from the column names.\n",
        "\n",
        "`.str.lower()` converts all column names to lowercase to maintain uniformity and avoid case sensitivity issues.\n",
        "\n",
        "`.str.replace(' ', '_')` replaces any spaces with underscores, making the names more coding-friendly.\n",
        "\n",
        "Finally, `df.head(2)` displays the first two rows of the DataFrame to verify that the column names have been successfully cleaned and standardized.\n",
        "\n",
        "This ensures that the dataset is properly structured for the next stages of data preprocessing and modeling."
      ],
      "metadata": {
        "id": "CDeOsGMjKp_y"
      }
    },
    {
      "cell_type": "code",
      "source": [
        "# Cleaning column names\n",
        "df.columns = df.columns.str.strip().str.lower().str.replace(' ', '_')\n",
        "df.head(2)"
      ],
      "metadata": {
        "colab": {
          "base_uri": "https://localhost:8080/",
          "height": 167
        },
        "id": "E6yDsW5SXKaH",
        "outputId": "5dc1c256-9cb6-4de7-a6fb-352b39012e9e"
      },
      "execution_count": 6,
      "outputs": [
        {
          "output_type": "execute_result",
          "data": {
            "text/plain": [
              "   year  facility_id             facility_name  apr_drg_code  \\\n",
              "0  2016            4  Albany Memorial Hospital           194   \n",
              "1  2016            4  Albany Memorial Hospital           194   \n",
              "\n",
              "   apr_severity_of_illness_code apr_drg_description  \\\n",
              "0                             1       Heart Failure   \n",
              "1                             2       Heart Failure   \n",
              "\n",
              "  apr_severity_of_illness_description apr_medical_surgical_code  \\\n",
              "0                               Minor                         M   \n",
              "1                            Moderate                         M   \n",
              "\n",
              "  apr_medical_surgical_description discharges mean_charge median_charge  \\\n",
              "0                          Medical          2    8,375.41      8,375.41   \n",
              "1                          Medical         40   14,029.82     12,176.95   \n",
              "\n",
              "  mean_cost median_cost  \n",
              "0  3,585.05    3,585.05  \n",
              "1  6,182.67    5,253.15  "
            ],
            "text/html": [
              "\n",
              "  <div id=\"df-f4c15c2c-2e74-4640-9094-ce35f81897bc\" class=\"colab-df-container\">\n",
              "    <div>\n",
              "<style scoped>\n",
              "    .dataframe tbody tr th:only-of-type {\n",
              "        vertical-align: middle;\n",
              "    }\n",
              "\n",
              "    .dataframe tbody tr th {\n",
              "        vertical-align: top;\n",
              "    }\n",
              "\n",
              "    .dataframe thead th {\n",
              "        text-align: right;\n",
              "    }\n",
              "</style>\n",
              "<table border=\"1\" class=\"dataframe\">\n",
              "  <thead>\n",
              "    <tr style=\"text-align: right;\">\n",
              "      <th></th>\n",
              "      <th>year</th>\n",
              "      <th>facility_id</th>\n",
              "      <th>facility_name</th>\n",
              "      <th>apr_drg_code</th>\n",
              "      <th>apr_severity_of_illness_code</th>\n",
              "      <th>apr_drg_description</th>\n",
              "      <th>apr_severity_of_illness_description</th>\n",
              "      <th>apr_medical_surgical_code</th>\n",
              "      <th>apr_medical_surgical_description</th>\n",
              "      <th>discharges</th>\n",
              "      <th>mean_charge</th>\n",
              "      <th>median_charge</th>\n",
              "      <th>mean_cost</th>\n",
              "      <th>median_cost</th>\n",
              "    </tr>\n",
              "  </thead>\n",
              "  <tbody>\n",
              "    <tr>\n",
              "      <th>0</th>\n",
              "      <td>2016</td>\n",
              "      <td>4</td>\n",
              "      <td>Albany Memorial Hospital</td>\n",
              "      <td>194</td>\n",
              "      <td>1</td>\n",
              "      <td>Heart Failure</td>\n",
              "      <td>Minor</td>\n",
              "      <td>M</td>\n",
              "      <td>Medical</td>\n",
              "      <td>2</td>\n",
              "      <td>8,375.41</td>\n",
              "      <td>8,375.41</td>\n",
              "      <td>3,585.05</td>\n",
              "      <td>3,585.05</td>\n",
              "    </tr>\n",
              "    <tr>\n",
              "      <th>1</th>\n",
              "      <td>2016</td>\n",
              "      <td>4</td>\n",
              "      <td>Albany Memorial Hospital</td>\n",
              "      <td>194</td>\n",
              "      <td>2</td>\n",
              "      <td>Heart Failure</td>\n",
              "      <td>Moderate</td>\n",
              "      <td>M</td>\n",
              "      <td>Medical</td>\n",
              "      <td>40</td>\n",
              "      <td>14,029.82</td>\n",
              "      <td>12,176.95</td>\n",
              "      <td>6,182.67</td>\n",
              "      <td>5,253.15</td>\n",
              "    </tr>\n",
              "  </tbody>\n",
              "</table>\n",
              "</div>\n",
              "    <div class=\"colab-df-buttons\">\n",
              "\n",
              "  <div class=\"colab-df-container\">\n",
              "    <button class=\"colab-df-convert\" onclick=\"convertToInteractive('df-f4c15c2c-2e74-4640-9094-ce35f81897bc')\"\n",
              "            title=\"Convert this dataframe to an interactive table.\"\n",
              "            style=\"display:none;\">\n",
              "\n",
              "  <svg xmlns=\"http://www.w3.org/2000/svg\" height=\"24px\" viewBox=\"0 -960 960 960\">\n",
              "    <path d=\"M120-120v-720h720v720H120Zm60-500h600v-160H180v160Zm220 220h160v-160H400v160Zm0 220h160v-160H400v160ZM180-400h160v-160H180v160Zm440 0h160v-160H620v160ZM180-180h160v-160H180v160Zm440 0h160v-160H620v160Z\"/>\n",
              "  </svg>\n",
              "    </button>\n",
              "\n",
              "  <style>\n",
              "    .colab-df-container {\n",
              "      display:flex;\n",
              "      gap: 12px;\n",
              "    }\n",
              "\n",
              "    .colab-df-convert {\n",
              "      background-color: #E8F0FE;\n",
              "      border: none;\n",
              "      border-radius: 50%;\n",
              "      cursor: pointer;\n",
              "      display: none;\n",
              "      fill: #1967D2;\n",
              "      height: 32px;\n",
              "      padding: 0 0 0 0;\n",
              "      width: 32px;\n",
              "    }\n",
              "\n",
              "    .colab-df-convert:hover {\n",
              "      background-color: #E2EBFA;\n",
              "      box-shadow: 0px 1px 2px rgba(60, 64, 67, 0.3), 0px 1px 3px 1px rgba(60, 64, 67, 0.15);\n",
              "      fill: #174EA6;\n",
              "    }\n",
              "\n",
              "    .colab-df-buttons div {\n",
              "      margin-bottom: 4px;\n",
              "    }\n",
              "\n",
              "    [theme=dark] .colab-df-convert {\n",
              "      background-color: #3B4455;\n",
              "      fill: #D2E3FC;\n",
              "    }\n",
              "\n",
              "    [theme=dark] .colab-df-convert:hover {\n",
              "      background-color: #434B5C;\n",
              "      box-shadow: 0px 1px 3px 1px rgba(0, 0, 0, 0.15);\n",
              "      filter: drop-shadow(0px 1px 2px rgba(0, 0, 0, 0.3));\n",
              "      fill: #FFFFFF;\n",
              "    }\n",
              "  </style>\n",
              "\n",
              "    <script>\n",
              "      const buttonEl =\n",
              "        document.querySelector('#df-f4c15c2c-2e74-4640-9094-ce35f81897bc button.colab-df-convert');\n",
              "      buttonEl.style.display =\n",
              "        google.colab.kernel.accessAllowed ? 'block' : 'none';\n",
              "\n",
              "      async function convertToInteractive(key) {\n",
              "        const element = document.querySelector('#df-f4c15c2c-2e74-4640-9094-ce35f81897bc');\n",
              "        const dataTable =\n",
              "          await google.colab.kernel.invokeFunction('convertToInteractive',\n",
              "                                                    [key], {});\n",
              "        if (!dataTable) return;\n",
              "\n",
              "        const docLinkHtml = 'Like what you see? Visit the ' +\n",
              "          '<a target=\"_blank\" href=https://colab.research.google.com/notebooks/data_table.ipynb>data table notebook</a>'\n",
              "          + ' to learn more about interactive tables.';\n",
              "        element.innerHTML = '';\n",
              "        dataTable['output_type'] = 'display_data';\n",
              "        await google.colab.output.renderOutput(dataTable, element);\n",
              "        const docLink = document.createElement('div');\n",
              "        docLink.innerHTML = docLinkHtml;\n",
              "        element.appendChild(docLink);\n",
              "      }\n",
              "    </script>\n",
              "  </div>\n",
              "\n",
              "\n",
              "    <div id=\"df-de158782-d31a-473e-a77f-6b7e612163ac\">\n",
              "      <button class=\"colab-df-quickchart\" onclick=\"quickchart('df-de158782-d31a-473e-a77f-6b7e612163ac')\"\n",
              "                title=\"Suggest charts\"\n",
              "                style=\"display:none;\">\n",
              "\n",
              "<svg xmlns=\"http://www.w3.org/2000/svg\" height=\"24px\"viewBox=\"0 0 24 24\"\n",
              "     width=\"24px\">\n",
              "    <g>\n",
              "        <path d=\"M19 3H5c-1.1 0-2 .9-2 2v14c0 1.1.9 2 2 2h14c1.1 0 2-.9 2-2V5c0-1.1-.9-2-2-2zM9 17H7v-7h2v7zm4 0h-2V7h2v10zm4 0h-2v-4h2v4z\"/>\n",
              "    </g>\n",
              "</svg>\n",
              "      </button>\n",
              "\n",
              "<style>\n",
              "  .colab-df-quickchart {\n",
              "      --bg-color: #E8F0FE;\n",
              "      --fill-color: #1967D2;\n",
              "      --hover-bg-color: #E2EBFA;\n",
              "      --hover-fill-color: #174EA6;\n",
              "      --disabled-fill-color: #AAA;\n",
              "      --disabled-bg-color: #DDD;\n",
              "  }\n",
              "\n",
              "  [theme=dark] .colab-df-quickchart {\n",
              "      --bg-color: #3B4455;\n",
              "      --fill-color: #D2E3FC;\n",
              "      --hover-bg-color: #434B5C;\n",
              "      --hover-fill-color: #FFFFFF;\n",
              "      --disabled-bg-color: #3B4455;\n",
              "      --disabled-fill-color: #666;\n",
              "  }\n",
              "\n",
              "  .colab-df-quickchart {\n",
              "    background-color: var(--bg-color);\n",
              "    border: none;\n",
              "    border-radius: 50%;\n",
              "    cursor: pointer;\n",
              "    display: none;\n",
              "    fill: var(--fill-color);\n",
              "    height: 32px;\n",
              "    padding: 0;\n",
              "    width: 32px;\n",
              "  }\n",
              "\n",
              "  .colab-df-quickchart:hover {\n",
              "    background-color: var(--hover-bg-color);\n",
              "    box-shadow: 0 1px 2px rgba(60, 64, 67, 0.3), 0 1px 3px 1px rgba(60, 64, 67, 0.15);\n",
              "    fill: var(--button-hover-fill-color);\n",
              "  }\n",
              "\n",
              "  .colab-df-quickchart-complete:disabled,\n",
              "  .colab-df-quickchart-complete:disabled:hover {\n",
              "    background-color: var(--disabled-bg-color);\n",
              "    fill: var(--disabled-fill-color);\n",
              "    box-shadow: none;\n",
              "  }\n",
              "\n",
              "  .colab-df-spinner {\n",
              "    border: 2px solid var(--fill-color);\n",
              "    border-color: transparent;\n",
              "    border-bottom-color: var(--fill-color);\n",
              "    animation:\n",
              "      spin 1s steps(1) infinite;\n",
              "  }\n",
              "\n",
              "  @keyframes spin {\n",
              "    0% {\n",
              "      border-color: transparent;\n",
              "      border-bottom-color: var(--fill-color);\n",
              "      border-left-color: var(--fill-color);\n",
              "    }\n",
              "    20% {\n",
              "      border-color: transparent;\n",
              "      border-left-color: var(--fill-color);\n",
              "      border-top-color: var(--fill-color);\n",
              "    }\n",
              "    30% {\n",
              "      border-color: transparent;\n",
              "      border-left-color: var(--fill-color);\n",
              "      border-top-color: var(--fill-color);\n",
              "      border-right-color: var(--fill-color);\n",
              "    }\n",
              "    40% {\n",
              "      border-color: transparent;\n",
              "      border-right-color: var(--fill-color);\n",
              "      border-top-color: var(--fill-color);\n",
              "    }\n",
              "    60% {\n",
              "      border-color: transparent;\n",
              "      border-right-color: var(--fill-color);\n",
              "    }\n",
              "    80% {\n",
              "      border-color: transparent;\n",
              "      border-right-color: var(--fill-color);\n",
              "      border-bottom-color: var(--fill-color);\n",
              "    }\n",
              "    90% {\n",
              "      border-color: transparent;\n",
              "      border-bottom-color: var(--fill-color);\n",
              "    }\n",
              "  }\n",
              "</style>\n",
              "\n",
              "      <script>\n",
              "        async function quickchart(key) {\n",
              "          const quickchartButtonEl =\n",
              "            document.querySelector('#' + key + ' button');\n",
              "          quickchartButtonEl.disabled = true;  // To prevent multiple clicks.\n",
              "          quickchartButtonEl.classList.add('colab-df-spinner');\n",
              "          try {\n",
              "            const charts = await google.colab.kernel.invokeFunction(\n",
              "                'suggestCharts', [key], {});\n",
              "          } catch (error) {\n",
              "            console.error('Error during call to suggestCharts:', error);\n",
              "          }\n",
              "          quickchartButtonEl.classList.remove('colab-df-spinner');\n",
              "          quickchartButtonEl.classList.add('colab-df-quickchart-complete');\n",
              "        }\n",
              "        (() => {\n",
              "          let quickchartButtonEl =\n",
              "            document.querySelector('#df-de158782-d31a-473e-a77f-6b7e612163ac button');\n",
              "          quickchartButtonEl.style.display =\n",
              "            google.colab.kernel.accessAllowed ? 'block' : 'none';\n",
              "        })();\n",
              "      </script>\n",
              "    </div>\n",
              "\n",
              "    </div>\n",
              "  </div>\n"
            ],
            "application/vnd.google.colaboratory.intrinsic+json": {
              "type": "dataframe",
              "variable_name": "df"
            }
          },
          "metadata": {},
          "execution_count": 6
        }
      ]
    },
    {
      "cell_type": "markdown",
      "source": [
        "🔢 **Converting Cost and Charge Columns to Numeric Format**\n",
        "\n",
        "In this step, we ensure that the financial and discharge-related columns are correctly formatted as numeric data types:\n",
        "\n",
        "We define `cols_to_numeric` containing the column names that should be numeric: `'discharges'`, `'mean_charge'`, `'median_charge'`, `'mean_cost'`, and `'median_cost'`.\n",
        "\n",
        "For each column:\n",
        "\n",
        "`.astype(str)` first converts all values to string to ensure uniform processing.\n",
        "\n",
        "`.str.replace(',', '')` removes any commas that were used as thousands separators.\n",
        "\n",
        "`.str.replace('$', '')` removes dollar signs from the monetary columns.\n",
        "\n",
        "`.astype(float)` finally converts the cleaned string values into proper floating-point numbers.\n",
        "\n",
        "This cleaning is crucial to allow proper mathematical operations and modeling later in the project."
      ],
      "metadata": {
        "id": "z1T7Adl7LMdn"
      }
    },
    {
      "cell_type": "code",
      "source": [
        "# Converting cost and charge columns to numeric\n",
        "cols_to_numeric = ['discharges', 'mean_charge', 'median_charge', 'mean_cost', 'median_cost']\n",
        "\n",
        "\n",
        "# Forcing columns to string first, then remove commas/dollar signs, then converting to float\n",
        "for col in cols_to_numeric:\n",
        "    df[col] = df[col].astype(str).str.replace(',', '').str.replace('$', '').astype(float)"
      ],
      "metadata": {
        "id": "HaJx1ciXXrIP"
      },
      "execution_count": 7,
      "outputs": []
    },
    {
      "cell_type": "markdown",
      "source": [
        "🔍 **Rechecking for Missing Values After Cleaning**\n",
        "\n",
        "In this step, we verify whether any missing (null) values still exist in the dataset after cleaning:\n",
        "\n",
        "`df.isnull().sum()` checks each column and returns the total number of missing entries.\n",
        "\n",
        "This confirmation ensures that our dataset is fully prepared for the next steps, such as model training, without encountering issues related to incomplete data."
      ],
      "metadata": {
        "id": "4S4jFPLIL_QL"
      }
    },
    {
      "cell_type": "code",
      "source": [
        "# Checking again for missing values\n",
        "df.isnull().sum()"
      ],
      "metadata": {
        "colab": {
          "base_uri": "https://localhost:8080/",
          "height": 523
        },
        "id": "He7txTK4YHP7",
        "outputId": "5985998c-9d1b-4d93-cb28-9d1c3a209d55"
      },
      "execution_count": 8,
      "outputs": [
        {
          "output_type": "execute_result",
          "data": {
            "text/plain": [
              "year                                     0\n",
              "facility_id                              0\n",
              "facility_name                            0\n",
              "apr_drg_code                             0\n",
              "apr_severity_of_illness_code             0\n",
              "apr_drg_description                      0\n",
              "apr_severity_of_illness_description    210\n",
              "apr_medical_surgical_code              479\n",
              "apr_medical_surgical_description         0\n",
              "discharges                               0\n",
              "mean_charge                              0\n",
              "median_charge                            0\n",
              "mean_cost                                0\n",
              "median_cost                              0\n",
              "dtype: int64"
            ],
            "text/html": [
              "<div>\n",
              "<style scoped>\n",
              "    .dataframe tbody tr th:only-of-type {\n",
              "        vertical-align: middle;\n",
              "    }\n",
              "\n",
              "    .dataframe tbody tr th {\n",
              "        vertical-align: top;\n",
              "    }\n",
              "\n",
              "    .dataframe thead th {\n",
              "        text-align: right;\n",
              "    }\n",
              "</style>\n",
              "<table border=\"1\" class=\"dataframe\">\n",
              "  <thead>\n",
              "    <tr style=\"text-align: right;\">\n",
              "      <th></th>\n",
              "      <th>0</th>\n",
              "    </tr>\n",
              "  </thead>\n",
              "  <tbody>\n",
              "    <tr>\n",
              "      <th>year</th>\n",
              "      <td>0</td>\n",
              "    </tr>\n",
              "    <tr>\n",
              "      <th>facility_id</th>\n",
              "      <td>0</td>\n",
              "    </tr>\n",
              "    <tr>\n",
              "      <th>facility_name</th>\n",
              "      <td>0</td>\n",
              "    </tr>\n",
              "    <tr>\n",
              "      <th>apr_drg_code</th>\n",
              "      <td>0</td>\n",
              "    </tr>\n",
              "    <tr>\n",
              "      <th>apr_severity_of_illness_code</th>\n",
              "      <td>0</td>\n",
              "    </tr>\n",
              "    <tr>\n",
              "      <th>apr_drg_description</th>\n",
              "      <td>0</td>\n",
              "    </tr>\n",
              "    <tr>\n",
              "      <th>apr_severity_of_illness_description</th>\n",
              "      <td>210</td>\n",
              "    </tr>\n",
              "    <tr>\n",
              "      <th>apr_medical_surgical_code</th>\n",
              "      <td>479</td>\n",
              "    </tr>\n",
              "    <tr>\n",
              "      <th>apr_medical_surgical_description</th>\n",
              "      <td>0</td>\n",
              "    </tr>\n",
              "    <tr>\n",
              "      <th>discharges</th>\n",
              "      <td>0</td>\n",
              "    </tr>\n",
              "    <tr>\n",
              "      <th>mean_charge</th>\n",
              "      <td>0</td>\n",
              "    </tr>\n",
              "    <tr>\n",
              "      <th>median_charge</th>\n",
              "      <td>0</td>\n",
              "    </tr>\n",
              "    <tr>\n",
              "      <th>mean_cost</th>\n",
              "      <td>0</td>\n",
              "    </tr>\n",
              "    <tr>\n",
              "      <th>median_cost</th>\n",
              "      <td>0</td>\n",
              "    </tr>\n",
              "  </tbody>\n",
              "</table>\n",
              "</div><br><label><b>dtype:</b> int64</label>"
            ]
          },
          "metadata": {},
          "execution_count": 8
        }
      ]
    },
    {
      "cell_type": "markdown",
      "source": [
        "🧹 **Removing Remaining Missing Values and Final Verification**\n",
        "\n",
        "In this step, we eliminate any remaining rows that contain missing (null) values:\n",
        "\n",
        "`df = df.dropna()` removes all rows from the dataset that have at least one missing value, ensuring a completely clean dataset.\n",
        "\n",
        "After dropping:\n",
        "\n",
        "`print(df.shape)` displays the new shape of the dataset, helping us verify how many rows and columns remain.\n",
        "\n",
        "`df.isnull().sum()` confirms that there are now zero missing values across all columns.\n",
        "\n",
        "This step guarantees that the dataset is fully clean and ready for reliable model training."
      ],
      "metadata": {
        "id": "mJrRM6HzNMSp"
      }
    },
    {
      "cell_type": "code",
      "source": [
        "df = df.dropna()\n",
        "\n",
        "# Checking again\n",
        "print(df.shape)\n",
        "df.isnull().sum()"
      ],
      "metadata": {
        "colab": {
          "base_uri": "https://localhost:8080/",
          "height": 540
        },
        "id": "spgb1j63kLZz",
        "outputId": "90799be2-3be1-430e-accd-e870a347c92e"
      },
      "execution_count": 9,
      "outputs": [
        {
          "output_type": "stream",
          "name": "stdout",
          "text": [
            "(1192348, 14)\n"
          ]
        },
        {
          "output_type": "execute_result",
          "data": {
            "text/plain": [
              "year                                   0\n",
              "facility_id                            0\n",
              "facility_name                          0\n",
              "apr_drg_code                           0\n",
              "apr_severity_of_illness_code           0\n",
              "apr_drg_description                    0\n",
              "apr_severity_of_illness_description    0\n",
              "apr_medical_surgical_code              0\n",
              "apr_medical_surgical_description       0\n",
              "discharges                             0\n",
              "mean_charge                            0\n",
              "median_charge                          0\n",
              "mean_cost                              0\n",
              "median_cost                            0\n",
              "dtype: int64"
            ],
            "text/html": [
              "<div>\n",
              "<style scoped>\n",
              "    .dataframe tbody tr th:only-of-type {\n",
              "        vertical-align: middle;\n",
              "    }\n",
              "\n",
              "    .dataframe tbody tr th {\n",
              "        vertical-align: top;\n",
              "    }\n",
              "\n",
              "    .dataframe thead th {\n",
              "        text-align: right;\n",
              "    }\n",
              "</style>\n",
              "<table border=\"1\" class=\"dataframe\">\n",
              "  <thead>\n",
              "    <tr style=\"text-align: right;\">\n",
              "      <th></th>\n",
              "      <th>0</th>\n",
              "    </tr>\n",
              "  </thead>\n",
              "  <tbody>\n",
              "    <tr>\n",
              "      <th>year</th>\n",
              "      <td>0</td>\n",
              "    </tr>\n",
              "    <tr>\n",
              "      <th>facility_id</th>\n",
              "      <td>0</td>\n",
              "    </tr>\n",
              "    <tr>\n",
              "      <th>facility_name</th>\n",
              "      <td>0</td>\n",
              "    </tr>\n",
              "    <tr>\n",
              "      <th>apr_drg_code</th>\n",
              "      <td>0</td>\n",
              "    </tr>\n",
              "    <tr>\n",
              "      <th>apr_severity_of_illness_code</th>\n",
              "      <td>0</td>\n",
              "    </tr>\n",
              "    <tr>\n",
              "      <th>apr_drg_description</th>\n",
              "      <td>0</td>\n",
              "    </tr>\n",
              "    <tr>\n",
              "      <th>apr_severity_of_illness_description</th>\n",
              "      <td>0</td>\n",
              "    </tr>\n",
              "    <tr>\n",
              "      <th>apr_medical_surgical_code</th>\n",
              "      <td>0</td>\n",
              "    </tr>\n",
              "    <tr>\n",
              "      <th>apr_medical_surgical_description</th>\n",
              "      <td>0</td>\n",
              "    </tr>\n",
              "    <tr>\n",
              "      <th>discharges</th>\n",
              "      <td>0</td>\n",
              "    </tr>\n",
              "    <tr>\n",
              "      <th>mean_charge</th>\n",
              "      <td>0</td>\n",
              "    </tr>\n",
              "    <tr>\n",
              "      <th>median_charge</th>\n",
              "      <td>0</td>\n",
              "    </tr>\n",
              "    <tr>\n",
              "      <th>mean_cost</th>\n",
              "      <td>0</td>\n",
              "    </tr>\n",
              "    <tr>\n",
              "      <th>median_cost</th>\n",
              "      <td>0</td>\n",
              "    </tr>\n",
              "  </tbody>\n",
              "</table>\n",
              "</div><br><label><b>dtype:</b> int64</label>"
            ]
          },
          "metadata": {},
          "execution_count": 9
        }
      ]
    },
    {
      "cell_type": "markdown",
      "source": [
        "📊 **Checking the Final Shape of the Cleaned Dataset**\n",
        "\n",
        "In this step, we confirm the dimensions of the dataset after cleaning:\n",
        "\n",
        "`print(\"Shape of dataset:\", df.shape)` prints the overall shape as a tuple, showing the total number of rows and columns.\n",
        "\n",
        "`print(\"Number of rows:\", df.shape[0])` specifically prints the total number of rows (data records).\n",
        "\n",
        "`print(\"Number of columns:\", df.shape[1])` specifically prints the total number of columns (features available).\n",
        "\n",
        "This detailed breakdown ensures that we are aware of the final dataset size before proceeding to data exploration and modeling."
      ],
      "metadata": {
        "id": "mQyqE3lMP8hz"
      }
    },
    {
      "cell_type": "code",
      "source": [
        "# Checking shape\n",
        "print(\"Shape of dataset:\", df.shape)\n",
        "\n",
        "# printing the number of rows\n",
        "print(\"Number of rows:\", df.shape[0])\n",
        "\n",
        "# And number of columns\n",
        "print(\"Number of columns:\", df.shape[1])"
      ],
      "metadata": {
        "colab": {
          "base_uri": "https://localhost:8080/"
        },
        "id": "i08-EBlKbdDi",
        "outputId": "5ad2e211-e3dd-448c-a3a2-84010e6c6b82"
      },
      "execution_count": 10,
      "outputs": [
        {
          "output_type": "stream",
          "name": "stdout",
          "text": [
            "Shape of dataset: (1192348, 14)\n",
            "Number of rows: 1192348\n",
            "Number of columns: 14\n"
          ]
        }
      ]
    },
    {
      "cell_type": "markdown",
      "source": [
        "🚫 **Checking for Negative Values in Cost, Charge, and Discharge Columns**\n",
        "\n",
        "In this step, we validate the financial and discharge-related columns to ensure that there are no negative values, which would be illogical in the context of healthcare billing:\n",
        "\n",
        "`print((df['mean_cost'] < 0).sum())` checks and counts the number of rows where the mean cost is negative.\n",
        "\n",
        "`print((df['median_cost'] < 0).sum())` checks for negative median costs.\n",
        "\n",
        "`print((df['mean_charge'] < 0).sum())` checks for negative mean charges.\n",
        "\n",
        "`print((df['median_charge'] < 0).sum())` checks for negative median charges.\n",
        "\n",
        "`print((df['discharges'] < 0).sum())` checks for negative discharge counts.\n",
        "\n",
        "Ensuring that all these values are non-negative is critical for maintaining the integrity and realism of our dataset before modeling."
      ],
      "metadata": {
        "id": "7PjVInaoQpCR"
      }
    },
    {
      "cell_type": "code",
      "source": [
        "# Checking for negative costs or charges\n",
        "print((df['mean_cost'] < 0).sum())\n",
        "print((df['median_cost'] < 0).sum())\n",
        "print((df['mean_charge'] < 0).sum())\n",
        "print((df['median_charge'] < 0).sum())\n",
        "print((df['discharges'] < 0).sum())"
      ],
      "metadata": {
        "colab": {
          "base_uri": "https://localhost:8080/"
        },
        "id": "yYm_Qzeknbx5",
        "outputId": "64012b75-3c0e-4615-ae8e-436b34d0a365"
      },
      "execution_count": 11,
      "outputs": [
        {
          "output_type": "stream",
          "name": "stdout",
          "text": [
            "0\n",
            "0\n",
            "0\n",
            "0\n",
            "0\n"
          ]
        }
      ]
    },
    {
      "cell_type": "markdown",
      "source": [
        "📊 **Generating Basic Statistical Summaries for Key Columns**\n",
        "\n",
        "In this step, we generate descriptive statistics for important numerical columns to better understand their distributions:\n",
        "\n",
        "`df['mean_cost'].describe()` provides the count, mean, standard deviation, minimum, quartiles, and maximum for the mean cost column.\n",
        "\n",
        "`df['discharges'].describe()` provides similar statistics for the number of discharges.\n",
        "\n",
        "`df['mean_charge'].describe()` provides the summary for the mean charge column.\n",
        "\n",
        "Analyzing these statistics helps us quickly detect any anomalies, outliers, or skewed distributions before proceeding with modeling."
      ],
      "metadata": {
        "id": "bSS0PHi-RDaj"
      }
    },
    {
      "cell_type": "code",
      "source": [
        "# Basic statistics\n",
        "print(\"Mean Cost Statistics:\")\n",
        "print(df['mean_cost'].describe())\n",
        "\n",
        "print(\"\\nDischarges Statistics:\")\n",
        "print(df['discharges'].describe())\n",
        "\n",
        "print(\"\\nMean Charge Statistics:\")\n",
        "print(df['mean_charge'].describe())"
      ],
      "metadata": {
        "colab": {
          "base_uri": "https://localhost:8080/"
        },
        "id": "unRo6fUdoSKP",
        "outputId": "5bb15fc2-39c8-41c2-d4bd-a4dcde42ec0c"
      },
      "execution_count": 12,
      "outputs": [
        {
          "output_type": "stream",
          "name": "stdout",
          "text": [
            "Mean Cost Statistics:\n",
            "count    1.192348e+06\n",
            "mean     1.939023e+04\n",
            "std      3.493511e+04\n",
            "min      0.000000e+00\n",
            "25%      5.855000e+03\n",
            "50%      1.054900e+04\n",
            "75%      2.076905e+04\n",
            "max      7.683086e+06\n",
            "Name: mean_cost, dtype: float64\n",
            "\n",
            "Discharges Statistics:\n",
            "count    1.192348e+06\n",
            "mean     2.043432e+01\n",
            "std      8.121827e+01\n",
            "min      1.000000e+00\n",
            "25%      2.000000e+00\n",
            "50%      5.000000e+00\n",
            "75%      1.500000e+01\n",
            "max      6.938000e+03\n",
            "Name: discharges, dtype: float64\n",
            "\n",
            "Mean Charge Statistics:\n",
            "count    1.192348e+06\n",
            "mean     5.359203e+04\n",
            "std      9.373406e+04\n",
            "min      1.000000e-02\n",
            "25%      1.487498e+04\n",
            "50%      2.859497e+04\n",
            "75%      5.746835e+04\n",
            "max      7.456979e+06\n",
            "Name: mean_charge, dtype: float64\n"
          ]
        }
      ]
    },
    {
      "cell_type": "markdown",
      "source": [
        "🚿 **Filtering Out Extreme Outliers and Replotting Distribution**\n",
        "\n",
        "In this step, we clean the data by removing extreme outliers in the `mean_cost` column:\n",
        "\n",
        "`df_filtered = df[df['mean_cost'] < 25000]` filters the dataset to only include records where the mean cost is less than $25,000, eliminating unrealistic or extreme values that could distort analysis.\n",
        "\n",
        "After filtering:\n",
        "\n",
        "We replot the distribution of mean cost using a histogram (`sns.histplot`) with 50 bins and a kernel density estimate (`kde=True`) for smoothness.\n",
        "\n",
        "The x-axis is limited to \\$0–\\$10,000 using `plt.xlim(0, 10000)` for better focus and readability.\n",
        "\n",
        "This helps us **better visualize and model the real-world distribution** of hospital mean costs without the skew from rare extreme cases."
      ],
      "metadata": {
        "id": "_cGD0tjdqgoh"
      }
    },
    {
      "cell_type": "markdown",
      "source": [],
      "metadata": {
        "id": "88AuLtU2qgj0"
      }
    },
    {
      "cell_type": "code",
      "source": [
        "# Removing extremely large mean_cost outliers (say above 25000$)\n",
        "df_filtered = df[df['mean_cost'] < 25000]\n",
        "\n",
        "# Now plotting again\n",
        "plt.figure(figsize=(10,6))\n",
        "sns.histplot(df_filtered['mean_cost'], bins=50, kde=True)\n",
        "plt.title('Distribution of Mean Cost (Filtered)')\n",
        "plt.xlabel('Mean Cost ($)')\n",
        "plt.ylabel('Frequency')\n",
        "plt.xlim(0, 10000)\n",
        "plt.show()\n"
      ],
      "metadata": {
        "colab": {
          "base_uri": "https://localhost:8080/",
          "height": 564
        },
        "id": "kQUIcaZHodjH",
        "outputId": "a4d36024-3e17-4d1e-cdfa-d5b7b625a759"
      },
      "execution_count": 13,
      "outputs": [
        {
          "output_type": "display_data",
          "data": {
            "text/plain": [
              "<Figure size 1000x600 with 1 Axes>"
            ],
            "image/png": "[encoded data removed]"
          },
          "metadata": {}
        }
      ]
    },
    {
      "cell_type": "markdown",
      "source": [
        "🏥 **Top 15 Hospitals by Average Mean Cost Visualization**\n",
        "\n",
        "In this step:\n",
        "\n",
        "We group the dataset (`df_filtered`) by facility name (`facility_name`) and calculate the average mean cost (`mean_cost`) for each hospital.\n",
        "\n",
        "We then sort the hospitals in descending order and select the top 15 hospitals with the highest average mean cost.\n",
        "\n",
        "To visualize the results:\n",
        "\n",
        "We create a horizontal bar plot (`sns.barplot`) with:\n",
        "\n",
        "X-axis: Average Mean Cost ($)\n",
        "\n",
        "Y-axis: Hospital Name\n",
        "\n",
        "We use the 'magma' color palette for a striking visual effect.\n",
        "\n",
        "This visualization helps identify the hospitals with the **highest average cost per discharge**, giving valuable insights into cost variability across facilities."
      ],
      "metadata": {
        "id": "8kfOEpQ7r_So"
      }
    },
    {
      "cell_type": "code",
      "source": [
        "# Top 15 Hospitals by Average Mean Cost\n",
        "top_hospitals_cost = df_filtered.groupby('facility_name')['mean_cost'].mean().sort_values(ascending=False).head(15)\n",
        "\n",
        "# Plotting them\n",
        "plt.figure(figsize=(12,6))\n",
        "sns.barplot(x=top_hospitals_cost.values, y=top_hospitals_cost.index, palette='magma')\n",
        "plt.title('Top 15 Hospitals by Average Mean Cost')\n",
        "plt.xlabel('Average Mean Cost ($)')\n",
        "plt.ylabel('Hospital Name')\n",
        "plt.show()\n"
      ],
      "metadata": {
        "colab": {
          "base_uri": "https://localhost:8080/",
          "height": 592
        },
        "id": "X3jIpfQEp7LJ",
        "outputId": "5f6bc0c1-db1f-410d-8aa6-a63253c8d4c0"
      },
      "execution_count": 14,
      "outputs": [
        {
          "output_type": "stream",
          "name": "stderr",
          "text": [
            "<ipython-input-14-7f9a4f5a0aa0>:6: FutureWarning: \n",
            "\n",
            "Passing `palette` without assigning `hue` is deprecated and will be removed in v0.14.0. Assign the `y` variable to `hue` and set `legend=False` for the same effect.\n",
            "\n",
            "  sns.barplot(x=top_hospitals_cost.values, y=top_hospitals_cost.index, palette='magma')\n"
          ]
        },
        {
          "output_type": "display_data",
          "data": {
            "text/plain": [
              "<Figure size 1200x600 with 1 Axes>"
            ],
            "image/png": "[encoded data removed]"
          },
          "metadata": {}
        }
      ]
    },
    {
      "cell_type": "markdown",
      "source": [
        "📊 **Boxplot: Mean Cost by Severity of Illness**\n",
        "\n",
        "In this step:\n",
        "\n",
        "We create a boxplot (`sns.boxplot`) to explore the relationship between severity of illness (`apr_severity_of_illness_description`) and the mean cost (`mean_cost`).\n",
        "\n",
        "Key plot settings:\n",
        "\n",
        "X-axis: Mean Cost ($)\n",
        "\n",
        "Y-axis: Severity of Illness categories (Minor, Moderate, Major, Extreme)\n",
        "\n",
        "`showfliers=False`: Hides extreme outliers for a cleaner, more readable plot.\n",
        "\n",
        "`palette='Set2'`: Applies a soft, visually appealing color palette.\n",
        "\n",
        "`xlim(0, 20000)`: Limits the X-axis to \\$0–\\$20,000 to avoid skewing from extreme values.\n",
        "\n",
        "This visualization helps us **compare how costs vary by illness severity**, offering key insights into resource utilization and cost distribution across patient types."
      ],
      "metadata": {
        "id": "M8flG_M4s6Q9"
      }
    },
    {
      "cell_type": "code",
      "source": [
        "# Boxplot: Severity of Illness vs Mean Cost\n",
        "plt.figure(figsize=(10,6))\n",
        "sns.boxplot(\n",
        "    x='mean_cost',\n",
        "    y='apr_severity_of_illness_description',\n",
        "    data=df_filtered,\n",
        "    palette='Set2',\n",
        "    showfliers=False # hiding extreme outliers for cleaner plot\n",
        ")\n",
        "plt.title('Mean Cost by Severity of Illness')\n",
        "plt.xlabel('Mean Cost ($)')\n",
        "plt.ylabel('Severity of Illness')\n",
        "plt.xlim(0, 20000) # you can adjust if needed\n",
        "plt.show()"
      ],
      "metadata": {
        "colab": {
          "base_uri": "https://localhost:8080/",
          "height": 671
        },
        "id": "GmGEWJJQqQsq",
        "outputId": "2840dd2a-1291-4331-edf6-9ec4afd231fc"
      },
      "execution_count": 15,
      "outputs": [
        {
          "output_type": "stream",
          "name": "stderr",
          "text": [
            "<ipython-input-15-f6d9c9032512>:3: FutureWarning: \n",
            "\n",
            "Passing `palette` without assigning `hue` is deprecated and will be removed in v0.14.0. Assign the `y` variable to `hue` and set `legend=False` for the same effect.\n",
            "\n",
            "  sns.boxplot(\n"
          ]
        },
        {
          "output_type": "display_data",
          "data": {
            "text/plain": [
              "<Figure size 1000x600 with 1 Axes>"
            ],
            "image/png": "[encoded data removed]"
          },
          "metadata": {}
        }
      ]
    },
    {
      "cell_type": "markdown",
      "source": [
        "📈 **Line Plot: Trend of Average Mean Cost Over the Years**\n",
        "\n",
        "In this step:\n",
        "\n",
        "We group the dataset by `year` and calculate the average mean cost for each year using `groupby` and `mean()`.\n",
        "\n",
        "We then create a line plot (`sns.lineplot`) to visualize the trend of hospital mean costs over time.\n",
        "\n",
        "Key plot settings:\n",
        "\n",
        "X-axis: Years (from the dataset)\n",
        "\n",
        "Y-axis: Average Mean Cost (in dollars)\n",
        "\n",
        "Marker: `'o'` adds circles at each yearly point to improve visibility.\n",
        "\n",
        "Grid: Enabled using `plt.grid(True)` for better readability of trends.\n",
        "\n",
        "This visualization helps us **observe how average hospital discharge costs have evolved over time**, identifying possible **increases**, **decreases**, or **stable periods**."
      ],
      "metadata": {
        "id": "KX5MQRUxuIaB"
      }
    },
    {
      "cell_type": "code",
      "source": [
        "# Grouping data by year and calculate average mean cost\n",
        "yearly_cost = df_filtered.groupby('year')['mean_cost'].mean()\n",
        "\n",
        "# Plotting\n",
        "plt.figure(figsize=(12,6))\n",
        "sns.lineplot(x=yearly_cost.index, y=yearly_cost.values, marker='o')\n",
        "plt.title('Trend of Average Mean Cost Over Years')\n",
        "plt.xlabel('Year')\n",
        "plt.ylabel('Average Mean Cost ($)')\n",
        "plt.grid(True)\n",
        "plt.show()"
      ],
      "metadata": {
        "colab": {
          "base_uri": "https://localhost:8080/",
          "height": 564
        },
        "id": "8yuMMDZIqnlE",
        "outputId": "7cfffd70-2d19-4ea4-8542-a28c0ad4569e"
      },
      "execution_count": 16,
      "outputs": [
        {
          "output_type": "display_data",
          "data": {
            "text/plain": [
              "<Figure size 1200x600 with 1 Axes>"
            ],
            "image/png": "[encoded data removed]"
          },
          "metadata": {}
        }
      ]
    },
    {
      "cell_type": "markdown",
      "source": [
        "⚙️ **Installing the CatBoost Library**\n",
        "\n",
        "In this step:\n",
        "\n",
        "We use `!pip install catboost` to install the CatBoost library inside the Colab environment.\n",
        "\n",
        "CatBoost is a powerful and efficient gradient boosting algorithm developed by Yandex, particularly well-suited for:\n",
        "\n",
        "Handling categorical features automatically.\n",
        "\n",
        "Building high-accuracy regression and classification models with minimal tuning.\n",
        "\n",
        "Since Colab sessions are temporary, it is necessary to reinstall external libraries like CatBoost when starting a new session.\n",
        "\n",
        "Installing CatBoost ensures we can **build advanced machine learning models** that handle complex datasets efficiently."
      ],
      "metadata": {
        "id": "gM3AqHauPrVE"
      }
    },
    {
      "cell_type": "code",
      "source": [
        "!pip install catboost\n"
      ],
      "metadata": {
        "colab": {
          "base_uri": "https://localhost:8080/"
        },
        "collapsed": true,
        "id": "iTLndxJm_uDN",
        "outputId": "7b9f960f-e300-4783-ef91-3d555aabef18"
      },
      "execution_count": 17,
      "outputs": [
        {
          "output_type": "stream",
          "name": "stdout",
          "text": [
            "Collecting catboost\n",
            "  Downloading catboost-1.2.8-cp311-cp311-manylinux2014_x86_64.whl.metadata (1.2 kB)\n",
            "Requirement already satisfied: graphviz in /usr/local/lib/python3.11/dist-packages (from catboost) (0.20.3)\n",
            "Requirement already satisfied: matplotlib in /usr/local/lib/python3.11/dist-packages (from catboost) (3.10.0)\n",
            "Requirement already satisfied: numpy<3.0,>=1.16.0 in /usr/local/lib/python3.11/dist-packages (from catboost) (2.0.2)\n",
            "Requirement already satisfied: pandas>=0.24 in /usr/local/lib/python3.11/dist-packages (from catboost) (2.2.2)\n",
            "Requirement already satisfied: scipy in /usr/local/lib/python3.11/dist-packages (from catboost) (1.14.1)\n",
            "Requirement already satisfied: plotly in /usr/local/lib/python3.11/dist-packages (from catboost) (5.24.1)\n",
            "Requirement already satisfied: six in /usr/local/lib/python3.11/dist-packages (from catboost) (1.17.0)\n",
            "Requirement already satisfied: python-dateutil>=2.8.2 in /usr/local/lib/python3.11/dist-packages (from pandas>=0.24->catboost) (2.8.2)\n",
            "Requirement already satisfied: pytz>=2020.1 in /usr/local/lib/python3.11/dist-packages (from pandas>=0.24->catboost) (2025.2)\n",
            "Requirement already satisfied: tzdata>=2022.7 in /usr/local/lib/python3.11/dist-packages (from pandas>=0.24->catboost) (2025.2)\n",
            "Requirement already satisfied: contourpy>=1.0.1 in /usr/local/lib/python3.11/dist-packages (from matplotlib->catboost) (1.3.2)\n",
            "Requirement already satisfied: cycler>=0.10 in /usr/local/lib/python3.11/dist-packages (from matplotlib->catboost) (0.12.1)\n",
            "Requirement already satisfied: fonttools>=4.22.0 in /usr/local/lib/python3.11/dist-packages (from matplotlib->catboost) (4.57.0)\n",
            "Requirement already satisfied: kiwisolver>=1.3.1 in /usr/local/lib/python3.11/dist-packages (from matplotlib->catboost) (1.4.8)\n",
            "Requirement already satisfied: packaging>=20.0 in /usr/local/lib/python3.11/dist-packages (from matplotlib->catboost) (24.2)\n",
            "Requirement already satisfied: pillow>=8 in /usr/local/lib/python3.11/dist-packages (from matplotlib->catboost) (11.1.0)\n",
            "Requirement already satisfied: pyparsing>=2.3.1 in /usr/local/lib/python3.11/dist-packages (from matplotlib->catboost) (3.2.3)\n",
            "Requirement already satisfied: tenacity>=6.2.0 in /usr/local/lib/python3.11/dist-packages (from plotly->catboost) (9.1.2)\n",
            "Downloading catboost-1.2.8-cp311-cp311-manylinux2014_x86_64.whl (99.2 MB)\n",
            "\u001b[2K   \u001b[90m━━━━━━━━━━━━━━━━━━━━━━━━━━━━━━━━━━━━━━━━\u001b[0m \u001b[32m99.2/99.2 MB\u001b[0m \u001b[31m8.7 MB/s\u001b[0m eta \u001b[36m0:00:00\u001b[0m\n",
            "\u001b[?25hInstalling collected packages: catboost\n",
            "Successfully installed catboost-1.2.8\n"
          ]
        }
      ]
    },
    {
      "cell_type": "markdown",
      "source": [
        "🚀 **Final Machine Learning Model: High-Accuracy CatBoost Regressor for Predicting Mean Discharge Cost**\n",
        "\n",
        "In this major step:\n",
        "\n",
        "We build a powerful CatBoostRegressor model to predict the mean cost of a hospital discharge.\n",
        "\n",
        "Feature Selection: We carefully select important features such as:\n",
        "\n",
        "- Hospital name (`facility_name`)\n",
        "\n",
        "- Diagnosis code (`apr_drg_code`)\n",
        "\n",
        "- Severity of illness\n",
        "\n",
        "- Surgical classification\n",
        "\n",
        "- Year\n",
        "\n",
        "- Financial metrics (`mean_charge`, `median_charge`)\n",
        "\n",
        "Data Preparation:\n",
        "\n",
        "- Extract selected features.\n",
        "\n",
        "- Handle missing values with `.dropna()`.\n",
        "\n",
        "- Define categorical feature indices for automatic handling.\n",
        "\n",
        "Model Training:\n",
        "\n",
        "- Split data into 80% training and 20% testing sets.\n",
        "\n",
        "- Train a CatBoostRegressor with 1200 iterations, 10-depth trees, and optimized learning rate.\n",
        "\n",
        "Model Evaluation:\n",
        "\n",
        "- Display Final Train Score and Final Test Score to measure accuracy.\n",
        "\n",
        "- Calculate the Margin of Error to assess prediction reliability with a 95% confidence interval.\n",
        "\n",
        "Future Prediction:\n",
        "\n",
        "- Predict the average mean cost for the year 2025 by updating the 'year' feature.\n",
        "\n",
        "- Output the final predicted cost based on the full dataset.\n",
        "\n",
        "This approach ensures a robust, accurate, and interpretable model ready for real-world cost forecasting in healthcare."
      ],
      "metadata": {
        "id": "ECzt49hs0eAQ"
      }
    },
    {
      "cell_type": "code",
      "source": [
        "# FINAL MODEL: High Accuracy CatBoost Model for Mean Cost Prediction\n",
        "\n",
        "from catboost import CatBoostRegressor\n",
        "from sklearn.model_selection import train_test_split\n",
        "from math import sqrt\n",
        "\n",
        "# 1. Select strong features\n",
        "selected_features = [\n",
        "    'facility_name',\n",
        "    'apr_drg_code',\n",
        "    'apr_severity_of_illness_description',\n",
        "    'apr_medical_surgical_description',\n",
        "    'year',\n",
        "    'mean_charge',\n",
        "    'median_charge'\n",
        "]\n",
        "\n",
        "target_variable = 'mean_cost'  # We are predicting mean cost\n",
        "\n",
        "# 2. Prepare the data\n",
        "model_df = df_filtered[selected_features + [target_variable]].dropna()\n",
        "X = model_df[selected_features]\n",
        "y = model_df[target_variable]\n",
        "\n",
        "# 3. Identify categorical features\n",
        "cat_features = [0, 1, 2, 3, 4]\n",
        "\n",
        "# 4. Train-test split\n",
        "X_train, X_test, y_train, y_test = train_test_split(\n",
        "    X, y, test_size=0.2, random_state=42\n",
        ")\n",
        "\n",
        "# 5. Build and train the model\n",
        "model = CatBoostRegressor(\n",
        "    iterations=1200,\n",
        "    depth=10,\n",
        "    learning_rate=0.03,\n",
        "    loss_function='RMSE',\n",
        "    random_seed=42,\n",
        "    cat_features=cat_features,\n",
        "    verbose=100\n",
        ")\n",
        "\n",
        "model.fit(X_train, y_train)\n",
        "\n",
        "# 6. Evaluate the model\n",
        "train_score = model.score(X_train, y_train)\n",
        "test_score = model.score(X_test, y_test)\n",
        "\n",
        "print(f\"\\n Final Train Score: {train_score:.4f}\")\n",
        "print(f\" Final Test Score: {test_score:.4f}\")\n",
        "\n",
        "# 7. Margin of Error Calculation\n",
        "n = len(y_test)\n",
        "z = 1.96  # 95% confidence interval (standard z-score)\n",
        "p = test_score\n",
        "\n",
        "margin_of_error = z * sqrt(p * (1 - p) / n)\n",
        "\n",
        "print(f\" Margin of Error: ±{margin_of_error:.4f}\")\n",
        "\n",
        "# 8. Predict for 2025\n",
        "X_2025 = X.copy()\n",
        "X_2025['year'] = 2025\n",
        "\n",
        "predicted_mean_costs_2025 = model.predict(X_2025)\n",
        "average_predicted_mean_cost_2025 = predicted_mean_costs_2025.mean()\n",
        "\n",
        "print(f\"\\n🎯 Predicted Average Mean Cost for 2025 (Used Full Dataset): ${average_predicted_mean_cost_2025:.2f}\")"
      ],
      "metadata": {
        "colab": {
          "base_uri": "https://localhost:8080/"
        },
        "id": "Xr1roFGTprvw",
        "outputId": "c0816823-d8e2-42e8-96f6-e9c968d8af64"
      },
      "execution_count": 18,
      "outputs": [
        {
          "output_type": "stream",
          "name": "stdout",
          "text": [
            "0:\tlearn: 5732.3702223\ttotal: 1.76s\tremaining: 35m 11s\n",
            "100:\tlearn: 1995.0014484\ttotal: 3m 4s\tremaining: 33m 26s\n",
            "200:\tlearn: 1785.7236051\ttotal: 6m 18s\tremaining: 31m 20s\n",
            "300:\tlearn: 1720.3619756\ttotal: 9m 27s\tremaining: 28m 16s\n",
            "400:\tlearn: 1677.1753638\ttotal: 12m 47s\tremaining: 25m 30s\n",
            "500:\tlearn: 1645.8564443\ttotal: 16m 4s\tremaining: 22m 26s\n",
            "600:\tlearn: 1619.4117752\ttotal: 19m 14s\tremaining: 19m 11s\n",
            "700:\tlearn: 1598.0870815\ttotal: 22m 38s\tremaining: 16m 6s\n",
            "800:\tlearn: 1578.1406421\ttotal: 25m 46s\tremaining: 12m 50s\n",
            "900:\tlearn: 1561.8924838\ttotal: 28m 45s\tremaining: 9m 32s\n",
            "1000:\tlearn: 1545.8569849\ttotal: 31m 48s\tremaining: 6m 19s\n",
            "1100:\tlearn: 1531.3552268\ttotal: 34m 50s\tremaining: 3m 7s\n",
            "1199:\tlearn: 1518.2128433\ttotal: 37m 48s\tremaining: 0us\n",
            "\n",
            " Final Train Score: 0.9377\n",
            " Final Test Score: 0.9341\n",
            " Margin of Error: ±0.0011\n",
            "\n",
            "🎯 Predicted Average Mean Cost for 2025 (Used Full Dataset): $11106.70\n"
          ]
        }
      ]
    }
  ]
}